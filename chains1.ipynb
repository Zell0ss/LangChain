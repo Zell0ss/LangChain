{
 "cells": [
  {
   "cell_type": "markdown",
   "metadata": {},
   "source": [
    "# langchain"
   ]
  },
  {
   "cell_type": "code",
   "execution_count": 2,
   "metadata": {},
   "outputs": [],
   "source": [
    "import dotenv\n",
    "from langchain_openai import ChatOpenAI\n",
    "dotenv.load_dotenv()\n",
    "chat_model = ChatOpenAI(model=\"gpt-4o\", temperature=0)"
   ]
  },
  {
   "cell_type": "markdown",
   "metadata": {},
   "source": [
    "### Direct questioning"
   ]
  },
  {
   "cell_type": "code",
   "execution_count": 3,
   "metadata": {},
   "outputs": [
    {
     "name": "stdout",
     "output_type": "stream",
     "text": [
      "Blood pressure is the force exerted by circulating blood against the walls of the body's arteries, the major blood vessels in the body. It is one of the principal vital signs used to assess the health of an individual. Blood pressure is typically expressed in terms of two measurements: \n",
      "\n",
      "1. **Systolic Pressure**: This is the higher number and measures the pressure in the arteries when the heart beats (when the heart muscle contracts).\n",
      "\n",
      "2. **Diastolic Pressure**: This is the lower number and measures the pressure in the arteries between heartbeats (when the heart muscle is resting between beats and refilling with blood).\n",
      "\n",
      "Blood pressure is measured in millimeters of mercury (mmHg) and is recorded with the systolic number first, followed by the diastolic number (e.g., 120/80 mmHg). \n",
      "\n",
      "Normal blood pressure for a healthy adult is typically around 120/80 mmHg. However, what is considered normal can vary based on age, health conditions, and other factors. High blood pressure, or hypertension, can lead to serious health issues such as heart disease, stroke, and kidney problems if not managed properly. Conversely, low blood pressure, or hypotension, can cause dizziness and fainting and may indicate underlying health issues. Regular monitoring and maintaining a healthy lifestyle can help manage blood pressure effectively.\n"
     ]
    }
   ],
   "source": [
    "response = chat_model.invoke(\"Whats blood pressure?\") # this will be an AIMessage object\n",
    "print(response.content)"
   ]
  },
  {
   "cell_type": "markdown",
   "metadata": {},
   "source": [
    "### messages"
   ]
  },
  {
   "cell_type": "code",
   "execution_count": 4,
   "metadata": {},
   "outputs": [
    {
     "data": {
      "text/plain": [
       "AIMessage(content=\"Blood pressure is the force exerted by circulating blood against the walls of the body's arteries, the major blood vessels in the body. It is one of the principal vital signs used to assess the health of an individual. Blood pressure is typically expressed in terms of two measurements: systolic and diastolic pressure.\\n\\n1. **Systolic Pressure**: This is the higher number and represents the pressure in the arteries when the heart beats and fills them with blood.\\n\\n2. **Diastolic Pressure**: This is the lower number and represents the pressure in the arteries when the heart is at rest between beats.\\n\\nBlood pressure is measured in millimeters of mercury (mmHg) and is recorded with the systolic number first, followed by the diastolic number, for example, 120/80 mmHg.\\n\\nNormal blood pressure is generally considered to be around 120/80 mmHg. High blood pressure, or hypertension, is a condition where the blood pressure in the arteries is persistently elevated, which can lead to health issues such as heart disease, stroke, and kidney problems. Conversely, low blood pressure, or hypotension, can cause dizziness and fainting and may indicate underlying health issues. Regular monitoring and management of blood pressure are important for maintaining cardiovascular health.\", additional_kwargs={'refusal': None}, response_metadata={'token_usage': {'completion_tokens': 256, 'prompt_tokens': 29, 'total_tokens': 285, 'completion_tokens_details': {'accepted_prediction_tokens': 0, 'audio_tokens': 0, 'reasoning_tokens': 0, 'rejected_prediction_tokens': 0}, 'prompt_tokens_details': {'audio_tokens': 0, 'cached_tokens': 0}}, 'model_name': 'gpt-4o-2024-08-06', 'system_fingerprint': 'fp_76544d79cb', 'id': 'chatcmpl-Ba7px8LKNOHF0O38BmXLLSg06LX1d', 'finish_reason': 'stop', 'logprobs': None}, id='run-7b3abe80-1b72-4424-ba6b-7d5e78fe3662-0', usage_metadata={'input_tokens': 29, 'output_tokens': 256, 'total_tokens': 285, 'input_token_details': {'audio': 0, 'cache_read': 0}, 'output_token_details': {'audio': 0, 'reasoning': 0}})"
      ]
     },
     "execution_count": 4,
     "metadata": {},
     "output_type": "execute_result"
    }
   ],
   "source": [
    "from langchain.schema.messages import HumanMessage, SystemMessage\n",
    "\n",
    "messages = []\n",
    "environment = SystemMessage(\n",
    "        content=\"\"\"You're an assistant knowledgeable about healthcare. Only answer healthcare-related questions.\"\"\"\n",
    "    )\n",
    "question  = HumanMessage(content=\"What is blood pressure?\")\n",
    "messages.append(environment)\n",
    "messages.append(question)\n",
    "chat_model.invoke(messages)"
   ]
  },
  {
   "cell_type": "code",
   "execution_count": 5,
   "metadata": {},
   "outputs": [
    {
     "data": {
      "text/plain": [
       "AIMessage(content=\"I'm here to help with healthcare-related questions. If you have any questions about health or medical topics, feel free to ask!\", additional_kwargs={'refusal': None}, response_metadata={'token_usage': {'completion_tokens': 25, 'prompt_tokens': 56, 'total_tokens': 81, 'completion_tokens_details': {'accepted_prediction_tokens': 0, 'audio_tokens': 0, 'reasoning_tokens': 0, 'rejected_prediction_tokens': 0}, 'prompt_tokens_details': {'audio_tokens': 0, 'cached_tokens': 0}}, 'model_name': 'gpt-4o-2024-08-06', 'system_fingerprint': 'fp_07871e2ad8', 'id': 'chatcmpl-Ba7q2tIvXAmfT5Az1JKSnm8ZvXv16', 'finish_reason': 'stop', 'logprobs': None}, id='run-585b37fa-dc04-48bb-8dc3-244f11c85136-0', usage_metadata={'input_tokens': 56, 'output_tokens': 25, 'total_tokens': 81, 'input_token_details': {'audio': 0, 'cache_read': 0}, 'output_token_details': {'audio': 0, 'reasoning': 0}})"
      ]
     },
     "execution_count": 5,
     "metadata": {},
     "output_type": "execute_result"
    }
   ],
   "source": [
    "question  = HumanMessage(content=\"How to change a tire?\")\n",
    "messages.append(environment)\n",
    "messages.append(question)\n",
    "chat_model.invoke(messages)\n"
   ]
  },
  {
   "cell_type": "markdown",
   "metadata": {},
   "source": [
    "## Prompt Templates\n",
    "modern Chat Models require a list of messages with specific roles, a simple PromptTemplate (which formats a single string) is insufficient for constructing the full input sequence in a structured way. This is where ChatPromptTemplate comes in. It is a type of prompt template specifically designed to format a list of messages.\n",
    "\n",
    "\n",
    "### simple prompt template"
   ]
  },
  {
   "cell_type": "code",
   "execution_count": 6,
   "metadata": {},
   "outputs": [
    {
     "data": {
      "text/plain": [
       "['context', 'question', 'topic']"
      ]
     },
     "execution_count": 6,
     "metadata": {},
     "output_type": "execute_result"
    }
   ],
   "source": [
    "from langchain.prompts import PromptTemplate\n",
    "\n",
    "template_str = \"\"\"You're an expert on {topic}. ...\n",
    "Here is an user review:\n",
    "{context}\n",
    "\n",
    "Answer the following question in less than 10 words\n",
    "{question}\"\"\"\n",
    "prompt_template = PromptTemplate.from_template(template_str)\n",
    "prompt_template.input_variables"
   ]
  },
  {
   "cell_type": "code",
   "execution_count": 7,
   "metadata": {},
   "outputs": [
    {
     "data": {
      "text/plain": [
       "AIMessage(content='Yes, it is a positive review.', additional_kwargs={'refusal': None}, response_metadata={'token_usage': {'completion_tokens': 8, 'prompt_tokens': 43, 'total_tokens': 51, 'completion_tokens_details': {'accepted_prediction_tokens': 0, 'audio_tokens': 0, 'reasoning_tokens': 0, 'rejected_prediction_tokens': 0}, 'prompt_tokens_details': {'audio_tokens': 0, 'cached_tokens': 0}}, 'model_name': 'gpt-4o-2024-08-06', 'system_fingerprint': 'fp_76544d79cb', 'id': 'chatcmpl-Ba7q3ByJSL5O8z0jto7R4le2DHzUD', 'finish_reason': 'stop', 'logprobs': None}, id='run-172d680e-badb-4f0d-8bfb-f3a4fc2d2694-0', usage_metadata={'input_tokens': 43, 'output_tokens': 8, 'total_tokens': 51, 'input_token_details': {'audio': 0, 'cache_read': 0}, 'output_token_details': {'audio': 0, 'reasoning': 0}})"
      ]
     },
     "execution_count": 7,
     "metadata": {},
     "output_type": "execute_result"
    }
   ],
   "source": [
    "# same filler, different template\n",
    "filled_prompt = prompt_template.format(\n",
    "    topic=\"User feedback\", context=\"I love it here!\", question=\"Is this a positive review?\"\n",
    ")\n",
    "chat_model.invoke(filled_prompt)"
   ]
  },
  {
   "cell_type": "markdown",
   "metadata": {},
   "source": [
    "### system msg, human msg and chat prompt templates\n",
    "- A ChatPromptTemplate is a list of message templates, of different roles\n",
    "\n",
    "- SystemMessagePromptTemplate and HumanMessagePromptTemplate (and others like AIMessagePromptTemplate) are classes that represent the templates for messages with specific *roles*. They define how the content for a message with a \"system\" role or a \"human\" role should be structured and potentially include variables.\n"
   ]
  },
  {
   "cell_type": "code",
   "execution_count": 15,
   "metadata": {},
   "outputs": [
    {
     "name": "stdout",
     "output_type": "stream",
     "text": [
      "prompt=PromptTemplate(input_variables=['context'], input_types={}, partial_variables={}, template=\"Your job is to use patient\\nreviews to answer questions about their experience at a\\nhospital. Use the following context to answer questions.\\nBe as detailed as possible, but don't make up any information\\nthat's not from the context. If you don't know an answer, say\\nyou don't know.\\n\\nPatient reviews:\\n\\n{context}\\n\") additional_kwargs={}\n",
      "prompt=PromptTemplate(input_variables=['question'], input_types={}, partial_variables={}, template='{question}') additional_kwargs={}\n"
     ]
    }
   ],
   "source": [
    "from langchain.prompts import (\n",
    "    SystemMessagePromptTemplate,\n",
    "    HumanMessagePromptTemplate,\n",
    "    ChatPromptTemplate,\n",
    ")\n",
    "\n",
    "review_system_template_str = \"\"\"Your job is to use patient\n",
    "reviews to answer questions about their experience at a\n",
    "hospital. Use the following context to answer questions.\n",
    "Be as detailed as possible, but don't make up any information\n",
    "that's not from the context. If you don't know an answer, say\n",
    "you don't know.\n",
    "\n",
    "Patient reviews:\n",
    "\n",
    "{context}\n",
    "\"\"\"\n",
    "\n",
    "review_system_prompt = SystemMessagePromptTemplate(\n",
    "    prompt=PromptTemplate.from_template(review_system_template_str)\n",
    ")\n",
    "print (review_system_prompt)\n",
    "\n",
    "review_human_prompt = HumanMessagePromptTemplate(\n",
    "    prompt=PromptTemplate.from_template(\"{question}\")\n",
    ")\n",
    "print(review_human_prompt)"
   ]
  },
  {
   "cell_type": "code",
   "execution_count": 10,
   "metadata": {},
   "outputs": [
    {
     "data": {
      "text/plain": [
       "ChatPromptTemplate(input_variables=['context', 'question'], input_types={}, partial_variables={}, messages=[SystemMessagePromptTemplate(prompt=PromptTemplate(input_variables=['context'], input_types={}, partial_variables={}, template=\"Your job is to use patient\\nreviews to answer questions about their experience at a\\nhospital. Use the following context to answer questions.\\nBe as detailed as possible, but don't make up any information\\nthat's not from the context. If you don't know an answer, say\\nyou don't know.\\n\\nPatient reviews:\\n\\n{context}\\n\"), additional_kwargs={}), HumanMessagePromptTemplate(prompt=PromptTemplate(input_variables=['question'], input_types={}, partial_variables={}, template='{question}'), additional_kwargs={})])"
      ]
     },
     "execution_count": 10,
     "metadata": {},
     "output_type": "execute_result"
    }
   ],
   "source": [
    "\n",
    "messages = [review_system_prompt, review_human_prompt]\n",
    "review_prompt_template = ChatPromptTemplate.from_messages(messages)\n",
    "review_prompt_template"
   ]
  },
  {
   "cell_type": "code",
   "execution_count": 11,
   "metadata": {},
   "outputs": [
    {
     "name": "stdout",
     "output_type": "stream",
     "text": [
      "content='Yes, one patient mentioned having a great stay, which indicates a positive experience.' additional_kwargs={'refusal': None} response_metadata={'token_usage': {'completion_tokens': 16, 'prompt_tokens': 86, 'total_tokens': 102, 'completion_tokens_details': {'accepted_prediction_tokens': 0, 'audio_tokens': 0, 'reasoning_tokens': 0, 'rejected_prediction_tokens': 0}, 'prompt_tokens_details': {'audio_tokens': 0, 'cached_tokens': 0}}, 'model_name': 'gpt-4o-2024-08-06', 'system_fingerprint': 'fp_9bddfca6e2', 'id': 'chatcmpl-Ba7q4eHDMqABjIkVCBJvdYv9vWOJi', 'finish_reason': 'stop', 'logprobs': None} id='run-1562c458-f30b-42a8-bf24-5772b9be6f29-0' usage_metadata={'input_tokens': 86, 'output_tokens': 16, 'total_tokens': 102, 'input_token_details': {'audio': 0, 'cache_read': 0}, 'output_token_details': {'audio': 0, 'reasoning': 0}}\n"
     ]
    }
   ],
   "source": [
    "context = \"I had a great stay!\"\n",
    "question = \"Did anyone have a positive experience?\"\n",
    "\n",
    "filled_prompt = review_prompt_template.format_messages(\n",
    "    context=context, question=question\n",
    ")\n",
    "\n",
    "print(chat_model.invoke(filled_prompt))"
   ]
  },
  {
   "cell_type": "markdown",
   "metadata": {},
   "source": [
    "## Chains"
   ]
  },
  {
   "cell_type": "code",
   "execution_count": 16,
   "metadata": {},
   "outputs": [
    {
     "name": "stdout",
     "output_type": "stream",
     "text": [
      "content='Yes, the patient had a positive experience, as indicated by their review stating, \"I had a great stay!\"' additional_kwargs={'refusal': None} response_metadata={'token_usage': {'completion_tokens': 23, 'prompt_tokens': 87, 'total_tokens': 110, 'completion_tokens_details': {'accepted_prediction_tokens': 0, 'audio_tokens': 0, 'reasoning_tokens': 0, 'rejected_prediction_tokens': 0}, 'prompt_tokens_details': {'audio_tokens': 0, 'cached_tokens': 0}}, 'model_name': 'gpt-4o-2024-08-06', 'system_fingerprint': 'fp_76544d79cb', 'id': 'chatcmpl-Ba87qInfuGbScVoYRWK1BSfmvBZjr', 'finish_reason': 'stop', 'logprobs': None} id='run-b3bf106d-f9b0-40f3-a19b-ea573441c647-0' usage_metadata={'input_tokens': 87, 'output_tokens': 23, 'total_tokens': 110, 'input_token_details': {'audio': 0, 'cache_read': 0}, 'output_token_details': {'audio': 0, 'reasoning': 0}}\n",
      "content=\"I'm sorry, but the context provided does not include information about what the patient was interned for.\" additional_kwargs={'refusal': None} response_metadata={'token_usage': {'completion_tokens': 20, 'prompt_tokens': 86, 'total_tokens': 106, 'completion_tokens_details': {'accepted_prediction_tokens': 0, 'audio_tokens': 0, 'reasoning_tokens': 0, 'rejected_prediction_tokens': 0}, 'prompt_tokens_details': {'audio_tokens': 0, 'cached_tokens': 0}}, 'model_name': 'gpt-4o-2024-08-06', 'system_fingerprint': 'fp_9bddfca6e2', 'id': 'chatcmpl-Ba87rpYuUp5BCxhKY15daMA5CKLVu', 'finish_reason': 'stop', 'logprobs': None} id='run-c7698cf6-fe07-4b68-b72b-4414e80cbe19-0' usage_metadata={'input_tokens': 86, 'output_tokens': 20, 'total_tokens': 106, 'input_token_details': {'audio': 0, 'cache_read': 0}, 'output_token_details': {'audio': 0, 'reasoning': 0}}\n",
      "content=\"I'm sorry, but the context provided does not include information on how to fix a car. It only mentions a patient review about needing a car fixed due to a punctured tire.\" additional_kwargs={'refusal': None} response_metadata={'token_usage': {'completion_tokens': 36, 'prompt_tokens': 91, 'total_tokens': 127, 'completion_tokens_details': {'accepted_prediction_tokens': 0, 'audio_tokens': 0, 'reasoning_tokens': 0, 'rejected_prediction_tokens': 0}, 'prompt_tokens_details': {'audio_tokens': 0, 'cached_tokens': 0}}, 'model_name': 'gpt-4o-2024-08-06', 'system_fingerprint': 'fp_76544d79cb', 'id': 'chatcmpl-Ba87sB6EZz3p1SJkrK2Hf6ZFjBTyX', 'finish_reason': 'stop', 'logprobs': None} id='run-7fb7fba1-d8c7-4c24-a4af-df35e280dcc0-0' usage_metadata={'input_tokens': 91, 'output_tokens': 36, 'total_tokens': 127, 'input_token_details': {'audio': 0, 'cache_read': 0}, 'output_token_details': {'audio': 0, 'reasoning': 0}}\n"
     ]
    }
   ],
   "source": [
    "review_chain = review_prompt_template | chat_model\n",
    "\n",
    "context = \"I had a great stay!\"\n",
    "question = \"Did the patient have a positive experience?\"\n",
    "print(review_chain.invoke({\"context\": context, \"question\": question}))\n",
    "\n",
    "question = \"what was he interned for?\"\n",
    "print(review_chain.invoke({\"context\": context, \"question\": question}))\n",
    "\n",
    "context = \"I need my car fixed. it has a punctured tire\"\n",
    "question = \"how to fix his car\"\n",
    "print(review_chain.invoke({\"context\": context, \"question\": question}))"
   ]
  },
  {
   "cell_type": "markdown",
   "metadata": {},
   "source": [
    "### Inspecting a chain"
   ]
  },
  {
   "cell_type": "code",
   "execution_count": null,
   "metadata": {},
   "outputs": [],
   "source": []
  }
 ],
 "metadata": {
  "kernelspec": {
   "display_name": ".venv",
   "language": "python",
   "name": "python3"
  },
  "language_info": {
   "codemirror_mode": {
    "name": "ipython",
    "version": 3
   },
   "file_extension": ".py",
   "mimetype": "text/x-python",
   "name": "python",
   "nbconvert_exporter": "python",
   "pygments_lexer": "ipython3",
   "version": "3.12.1"
  }
 },
 "nbformat": 4,
 "nbformat_minor": 2
}
