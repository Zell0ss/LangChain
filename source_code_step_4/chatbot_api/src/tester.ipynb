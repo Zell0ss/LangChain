{
 "cells": [
  {
   "cell_type": "code",
   "execution_count": 1,
   "metadata": {},
   "outputs": [
    {
     "name": "stdout",
     "output_type": "stream",
     "text": [
      "\n",
      "\n",
      "\u001b[1m> Entering new GraphCypherQAChain chain...\u001b[0m\n",
      "Generated Cypher:\n",
      "\u001b[32;1m\u001b[1;3mMATCH (v:Visit)-[:AT]->(h:Hospital)\n",
      "WHERE h.state_name = 'NC' AND v.admission_type = 'Emergency' AND v.status = 'DISCHARGED'\n",
      "WITH v, duration.between(date(v.admission_date), date(v.discharge_date)).days AS visit_duration\n",
      "RETURN AVG(visit_duration) AS average_visit_duration\u001b[0m\n",
      "Full Context:\n",
      "\u001b[32;1m\u001b[1;3m[{'average_visit_duration': 15.072972972972991}]\u001b[0m\n",
      "\n",
      "\u001b[1m> Finished chain.\u001b[0m\n",
      "The average visit duration for emergency visits in North Carolina is approximately 15.07 days.\n"
     ]
    }
   ],
   "source": [
    "import dotenv\n",
    "dotenv.load_dotenv()\n",
    "\n",
    "from chains.hospital_cypher_chain import hospital_cypher_chain\n",
    "\n",
    "question = \"\"\"What is the average visit duration for\n",
    "emergency visits in North Carolina?\"\"\"\n",
    "response = hospital_cypher_chain.invoke(question)\n",
    "\n",
    "print(response.get(\"result\"))"
   ]
  },
  {
   "cell_type": "code",
   "execution_count": 2,
   "metadata": {},
   "outputs": [
    {
     "name": "stdout",
     "output_type": "stream",
     "text": [
      "\n",
      "\n",
      "\u001b[1m> Entering new GraphCypherQAChain chain...\u001b[0m\n",
      "Generated Cypher:\n",
      "\u001b[32;1m\u001b[1;3mMATCH (h:Hospital)<-[:AT]-(v:Visit)-[:COVERED_BY]->(p:Payer)\n",
      "WHERE p.name = 'Medicaid' AND v.admission_date >= '2022-01-01' AND\n",
      "v.admission_date < '2024-01-01'\n",
      "WITH h.state_name AS state, COUNT(v) AS visit_count,\n",
      "     SUM(CASE WHEN v.admission_date >= '2022-01-01' AND\n",
      "     v.admission_date < '2023-01-01' THEN 1 ELSE 0 END) AS count_2022,\n",
      "     SUM(CASE WHEN v.admission_date >= '2023-01-01' AND\n",
      "     v.admission_date < '2024-01-01' THEN 1 ELSE 0 END) AS count_2023\n",
      "WITH state, visit_count, count_2022, count_2023,\n",
      "     (toFloat(count_2023) - toFloat(count_2022)) / toFloat(count_2022) * 100\n",
      "     AS percent_increase\n",
      "RETURN state, percent_increase\n",
      "ORDER BY percent_increase DESC\n",
      "LIMIT 1\u001b[0m\n",
      "Full Context:\n",
      "\u001b[32;1m\u001b[1;3m[{'state': 'TX', 'percent_increase': 8.823529411764707}]\u001b[0m\n",
      "\n",
      "\u001b[1m> Finished chain.\u001b[0m\n",
      "The state with the largest percent increase in Medicaid visits from 2022 to 2023 is Texas (TX) with a percent increase of 8.82%.\n"
     ]
    }
   ],
   "source": [
    "question = \"\"\"Which state had the largest percent increase\n",
    "           in Medicaid visits from 2022 to 2023?\"\"\"\n",
    "response = hospital_cypher_chain.invoke(question)\n",
    "print(response.get(\"result\"))"
   ]
  },
  {
   "cell_type": "code",
   "execution_count": 4,
   "metadata": {},
   "outputs": [
    {
     "name": "stdout",
     "output_type": "stream",
     "text": [
      "\n",
      "\n",
      "\u001b[1m> Entering new AgentExecutor chain...\u001b[0m\n",
      "\u001b[32;1m\u001b[1;3m\n",
      "Invoking: `Waits` with `Wallace-Hamilton`\n",
      "\n",
      "\n",
      "\u001b[0m\u001b[38;5;200m\u001b[1;3m5 hours 59 minutes\u001b[0m\u001b[32;1m\u001b[1;3mThe current wait time at Wallace-Hamilton is 5 hours and 59 minutes.\u001b[0m\n",
      "\n",
      "\u001b[1m> Finished chain.\u001b[0m\n",
      "What is the wait time at Wallace-Hamilton?=\n",
      "The current wait time at Wallace-Hamilton is 5 hours and 59 minutes.=\n"
     ]
    },
    {
     "data": {
      "text/plain": [
       "[(AgentActionMessageLog(tool='Waits', tool_input='Wallace-Hamilton', log='\\nInvoking: `Waits` with `Wallace-Hamilton`\\n\\n\\n', message_log=[AIMessage(content='', additional_kwargs={'function_call': {'arguments': '{\"__arg1\":\"Wallace-Hamilton\"}', 'name': 'Waits'}})]),\n",
       "  '5 hours 59 minutes')]"
      ]
     },
     "execution_count": 4,
     "metadata": {},
     "output_type": "execute_result"
    }
   ],
   "source": [
    "\n",
    "from agents.hospital_rag_agent import hospital_rag_agent_executor\n",
    "\n",
    "response = hospital_rag_agent_executor.invoke(\n",
    "    {\"input\": \"What is the wait time at Wallace-Hamilton?\"}\n",
    ")\n",
    "\n",
    "print(f'{response[\"input\"]}=')\n",
    "print(f'{response[\"output\"]}=')\n",
    "response[\"intermediate_steps\"]"
   ]
  },
  {
   "cell_type": "code",
   "execution_count": 5,
   "metadata": {},
   "outputs": [
    {
     "name": "stdout",
     "output_type": "stream",
     "text": [
      "\n",
      "\n",
      "\u001b[1m> Entering new AgentExecutor chain...\u001b[0m\n",
      "\u001b[32;1m\u001b[1;3m\n",
      "Invoking: `Experiences` with `Show me reviews written by patient 7674`\n",
      "\n",
      "\n",
      "\u001b[0m\u001b[36;1m\u001b[1;3m{'query': 'Show me reviews written by patient 7674', 'result': 'I\\'m sorry, but there are no reviews provided by a patient with the identifier \"7674\" in the context I have been given. If you have any other questions or need information about a different patient, feel free to ask.'}\u001b[0m\u001b[32;1m\u001b[1;3mI'm sorry, but there are no reviews provided by a patient with the identifier \"7674\" in the context I have been given. If you have any other questions or need information about a different patient, feel free to ask.\u001b[0m\n",
      "\n",
      "\u001b[1m> Finished chain.\u001b[0m\n",
      "Show me reviews written by patient 7674=\n",
      "I'm sorry, but there are no reviews provided by a patient with the identifier \"7674\" in the context I have been given. If you have any other questions or need information about a different patient, feel free to ask.=\n"
     ]
    },
    {
     "data": {
      "text/plain": [
       "[(AgentActionMessageLog(tool='Experiences', tool_input='Show me reviews written by patient 7674', log='\\nInvoking: `Experiences` with `Show me reviews written by patient 7674`\\n\\n\\n', message_log=[AIMessage(content='', additional_kwargs={'function_call': {'arguments': '{\"__arg1\":\"Show me reviews written by patient 7674\"}', 'name': 'Experiences'}})]),\n",
       "  {'query': 'Show me reviews written by patient 7674',\n",
       "   'result': 'I\\'m sorry, but there are no reviews provided by a patient with the identifier \"7674\" in the context I have been given. If you have any other questions or need information about a different patient, feel free to ask.'})]"
      ]
     },
     "execution_count": 5,
     "metadata": {},
     "output_type": "execute_result"
    }
   ],
   "source": [
    "# with this he tries a vector search/Experiences tool  \n",
    "response = hospital_rag_agent_executor.invoke(\n",
    "    {\"input\": \"Show me reviews written by patient 7674\"}\n",
    ")\n",
    "\n",
    "print(f'{response[\"input\"]}=')\n",
    "print(f'{response[\"output\"]}=')\n",
    "response[\"intermediate_steps\"]"
   ]
  },
  {
   "cell_type": "code",
   "execution_count": 6,
   "metadata": {},
   "outputs": [
    {
     "name": "stdout",
     "output_type": "stream",
     "text": [
      "\n",
      "\n",
      "\u001b[1m> Entering new AgentExecutor chain...\u001b[0m\n",
      "\u001b[32;1m\u001b[1;3m\n",
      "Invoking: `Graph` with `Show me the reviews written by patient 7674`\n",
      "\n",
      "\n",
      "\u001b[0m\n",
      "\n",
      "\u001b[1m> Entering new GraphCypherQAChain chain...\u001b[0m\n",
      "Generated Cypher:\n",
      "\u001b[32;1m\u001b[1;3mMATCH (p:Patient {id: 7674})-[:HAS]->(v:Visit)-[:WRITES]->(r:Review)\n",
      "RETURN r.text AS review_written\n",
      "\u001b[0m\n",
      "Full Context:\n",
      "\u001b[32;1m\u001b[1;3m[{'review_written': 'The hospital provided exceptional care, but the billing process was confusing and frustrating. Clearer communication about costs would have been appreciated.'}]\u001b[0m\n",
      "\n",
      "\u001b[1m> Finished chain.\u001b[0m\n",
      "\u001b[33;1m\u001b[1;3m{'query': 'Show me the reviews written by patient 7674', 'result': 'Here is the review written by patient 7674: \\n\\n\"The hospital provided exceptional care, but the billing process was confusing and frustrating. Clearer communication about costs would have been appreciated.\"'}\u001b[0m\u001b[32;1m\u001b[1;3mPatient 7674 wrote the following review: \"The hospital provided exceptional care, but the billing process was confusing and frustrating. Clearer communication about costs would have been appreciated.\"\u001b[0m\n",
      "\n",
      "\u001b[1m> Finished chain.\u001b[0m\n",
      "Query the graph database to show me the reviews written by patient 7674=\n",
      "Patient 7674 wrote the following review: \"The hospital provided exceptional care, but the billing process was confusing and frustrating. Clearer communication about costs would have been appreciated.\"=\n"
     ]
    },
    {
     "data": {
      "text/plain": [
       "[(AgentActionMessageLog(tool='Graph', tool_input='Show me the reviews written by patient 7674', log='\\nInvoking: `Graph` with `Show me the reviews written by patient 7674`\\n\\n\\n', message_log=[AIMessage(content='', additional_kwargs={'function_call': {'arguments': '{\"__arg1\":\"Show me the reviews written by patient 7674\"}', 'name': 'Graph'}})]),\n",
       "  {'query': 'Show me the reviews written by patient 7674',\n",
       "   'result': 'Here is the review written by patient 7674: \\n\\n\"The hospital provided exceptional care, but the billing process was confusing and frustrating. Clearer communication about costs would have been appreciated.\"'})]"
      ]
     },
     "execution_count": 6,
     "metadata": {},
     "output_type": "execute_result"
    }
   ],
   "source": [
    "# with this he does a cypher query\n",
    "response = hospital_rag_agent_executor.invoke(\n",
    "    {\"input\": \"Query the graph database to show me the reviews written by patient 7674\"}\n",
    ")\n",
    "\n",
    "print(f'{response[\"input\"]}=')\n",
    "print(f'{response[\"output\"]}=')\n",
    "response[\"intermediate_steps\"]"
   ]
  }
 ],
 "metadata": {
  "kernelspec": {
   "display_name": ".venv",
   "language": "python",
   "name": "python3"
  },
  "language_info": {
   "codemirror_mode": {
    "name": "ipython",
    "version": 3
   },
   "file_extension": ".py",
   "mimetype": "text/x-python",
   "name": "python",
   "nbconvert_exporter": "python",
   "pygments_lexer": "ipython3",
   "version": "3.11.0rc1"
  }
 },
 "nbformat": 4,
 "nbformat_minor": 2
}
